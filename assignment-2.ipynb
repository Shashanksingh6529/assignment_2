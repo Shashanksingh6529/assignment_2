{
 "cells": [
  {
   "cell_type": "markdown",
   "id": "024fabc1-e1d4-4036-b74b-6acb5e032720",
   "metadata": {},
   "source": [
    "Q1. How do you comment code in Python? What are the different types of comments?"
   ]
  },
  {
   "cell_type": "code",
   "execution_count": 1,
   "id": "3dc05cd7-4329-40f5-9166-1ebc985f372c",
   "metadata": {},
   "outputs": [
    {
     "data": {
      "text/plain": [
       "'\\nThis is also a\\nmulti-line\\ncomment\\n'"
      ]
     },
     "execution_count": 1,
     "metadata": {},
     "output_type": "execute_result"
    }
   ],
   "source": [
    "# This is a single-line comment\n",
    "'''\n",
    "This is a\n",
    "multi-line\n",
    "comment\n",
    "'''\n",
    "\"\"\"\n",
    "This is also a\n",
    "multi-line\n",
    "comment\n",
    "\"\"\""
   ]
  },
  {
   "cell_type": "markdown",
   "id": "b9143f6c-8c27-4de2-a20f-5939a8913385",
   "metadata": {},
   "source": [
    "Q2. What are variables in Python? How do you declare and assign values to variables?\n"
   ]
  },
  {
   "cell_type": "code",
   "execution_count": 4,
   "id": "e3b7c5be-f47b-4429-a014-78d802a64e69",
   "metadata": {},
   "outputs": [],
   "source": [
    "variable_name = \"value\"\n",
    "#Declaration and assignment separately:\n",
    "\n",
    "variable_name = None  # Declaration\n",
    "variable_name = \"value\"  # Assignment"
   ]
  },
  {
   "cell_type": "code",
   "execution_count": 5,
   "id": "01361a99-f55f-4cfe-87de-ec89c8bf0409",
   "metadata": {},
   "outputs": [],
   "source": [
    "# Integer variable\n",
    "age = 25\n",
    "\n",
    "# Float variable\n",
    "temperature = 98.6\n",
    "\n",
    "# String variable\n",
    "name = \"shashank_singh\"\n",
    "\n",
    "# Boolean variable\n",
    "is_valid = True\n",
    "\n",
    "# List variable\n",
    "numbers = [1, 2, 3, 4, 5]\n",
    "\n",
    "# Dictionary variable\n",
    "person = {'name': 'shashank', 'age': 20}"
   ]
  },
  {
   "cell_type": "markdown",
   "id": "8ce8a4aa-a293-469c-ae27-4d3b2e1fe912",
   "metadata": {},
   "source": [
    "Q3. How do you convert one data type to another in Python?"
   ]
  },
  {
   "cell_type": "code",
   "execution_count": 6,
   "id": "624bfec2-1a51-4b9f-b9f6-dabff68652ce",
   "metadata": {},
   "outputs": [],
   "source": [
    "# Integer to float\n",
    "x = 10\n",
    "y = float(x)\n",
    "\n",
    "# Float to integer\n",
    "a = 5.6\n",
    "b = int(a)\n",
    "\n",
    "# String to integer\n",
    "s = \"123\"\n",
    "i = int(s)\n",
    "\n",
    "# Integer to string\n",
    "n = 456\n",
    "s = str(n)"
   ]
  },
  {
   "cell_type": "markdown",
   "id": "9f649410-b355-41de-9c41-4ef124f46829",
   "metadata": {},
   "source": [
    "Q4. How do you write and execute a Python script from the command line?"
   ]
  },
  {
   "cell_type": "code",
   "execution_count": 11,
   "id": "ab105326-be52-4e92-bd2b-bb0cca56c95a",
   "metadata": {},
   "outputs": [
    {
     "name": "stdout",
     "output_type": "stream",
     "text": [
      "Hello, world!\n"
     ]
    }
   ],
   "source": [
    "print(\"Hello, world!\")\n",
    "# cd path/to/directory"
   ]
  },
  {
   "cell_type": "markdown",
   "id": "18f5fca9-5dbc-4573-b849-978e2c6beb7c",
   "metadata": {},
   "source": [
    "Q5. Given a list my_list = [1, 2, 3, 4, 5], write the code to slice the list and obtain the sub-list [2, 3]."
   ]
  },
  {
   "cell_type": "code",
   "execution_count": 12,
   "id": "365e01b0-07f6-427f-9d64-ad9b5a644004",
   "metadata": {},
   "outputs": [
    {
     "name": "stdout",
     "output_type": "stream",
     "text": [
      "[2, 3]\n"
     ]
    }
   ],
   "source": [
    "my_list = [1, 2, 3, 4, 5]\n",
    "\n",
    "sub_list = my_list[1:3]  # Slicing from index 1 (inclusive) to index 3 (exclusive)\n",
    "print(sub_list)  # Output: [2, 3]"
   ]
  },
  {
   "cell_type": "markdown",
   "id": "86553ea8-20a7-4b91-92d0-91b415a39247",
   "metadata": {},
   "source": [
    "Q6. What is a complex number in mathematics, and how is it represented in Python?"
   ]
  },
  {
   "cell_type": "code",
   "execution_count": 13,
   "id": "0e5e555f-d680-492a-a34e-922cc2ec4bd9",
   "metadata": {},
   "outputs": [],
   "source": [
    "z1 = 3 + 2j  # 3 is the real part, 2 is the imaginary part\n",
    "z2 = 1 - 4j  # 1 is the real part, -4 is the imaginary part"
   ]
  },
  {
   "cell_type": "code",
   "execution_count": 14,
   "id": "9f03e8bf-9c05-4ce2-97ef-e5166e4968ed",
   "metadata": {},
   "outputs": [
    {
     "data": {
      "text/plain": [
       "(3+2j)"
      ]
     },
     "execution_count": 14,
     "metadata": {},
     "output_type": "execute_result"
    }
   ],
   "source": [
    "z1"
   ]
  },
  {
   "cell_type": "code",
   "execution_count": 15,
   "id": "25513be0-f533-4129-bf7e-55bd5135a221",
   "metadata": {},
   "outputs": [
    {
     "data": {
      "text/plain": [
       "(1-4j)"
      ]
     },
     "execution_count": 15,
     "metadata": {},
     "output_type": "execute_result"
    }
   ],
   "source": [
    "z2"
   ]
  },
  {
   "cell_type": "code",
   "execution_count": 16,
   "id": "2890e464-d238-4b47-852d-3fb9c250ad6f",
   "metadata": {},
   "outputs": [
    {
     "data": {
      "text/plain": [
       "3.0"
      ]
     },
     "execution_count": 16,
     "metadata": {},
     "output_type": "execute_result"
    }
   ],
   "source": [
    "z1.real"
   ]
  },
  {
   "cell_type": "code",
   "execution_count": 18,
   "id": "2f4401a5-4514-440e-9182-7fc3a731b31d",
   "metadata": {},
   "outputs": [
    {
     "data": {
      "text/plain": [
       "2.0"
      ]
     },
     "execution_count": 18,
     "metadata": {},
     "output_type": "execute_result"
    }
   ],
   "source": [
    "z1.imag"
   ]
  },
  {
   "cell_type": "code",
   "execution_count": 19,
   "id": "bd6c931d-d6eb-40b0-8859-929cd3d23835",
   "metadata": {},
   "outputs": [
    {
     "data": {
      "text/plain": [
       "-4.0"
      ]
     },
     "execution_count": 19,
     "metadata": {},
     "output_type": "execute_result"
    }
   ],
   "source": [
    "z2.imag"
   ]
  },
  {
   "cell_type": "code",
   "execution_count": 20,
   "id": "19f9b0f3-3517-4691-ac78-319046e1962b",
   "metadata": {},
   "outputs": [
    {
     "data": {
      "text/plain": [
       "1.0"
      ]
     },
     "execution_count": 20,
     "metadata": {},
     "output_type": "execute_result"
    }
   ],
   "source": [
    "z2.real"
   ]
  },
  {
   "cell_type": "markdown",
   "id": "21081a5b-c8b6-409a-bfbd-18166d514bf8",
   "metadata": {},
   "source": [
    "Q7. What is the correct way to declare a variable named age and assign the value 25 to it?\n",
    "\n"
   ]
  },
  {
   "cell_type": "code",
   "execution_count": 21,
   "id": "1564a97d-0d7f-4b70-807d-23951a94ecaf",
   "metadata": {},
   "outputs": [],
   "source": [
    "age = 25"
   ]
  },
  {
   "cell_type": "code",
   "execution_count": 22,
   "id": "1f154699-cfe8-4d08-8418-38ba613a0680",
   "metadata": {},
   "outputs": [
    {
     "data": {
      "text/plain": [
       "25"
      ]
     },
     "execution_count": 22,
     "metadata": {},
     "output_type": "execute_result"
    }
   ],
   "source": [
    "age"
   ]
  },
  {
   "cell_type": "markdown",
   "id": "3833e4c6-ac27-4bcf-8813-ea2dc4c3159d",
   "metadata": {},
   "source": [
    "Q7. What is the correct way to declare a variable named age and assign the value 25 to it?\n",
    "\n"
   ]
  },
  {
   "cell_type": "code",
   "execution_count": 24,
   "id": "45e34ebc-ec6d-4e75-8b5e-f5c23a7159ba",
   "metadata": {},
   "outputs": [],
   "source": [
    "age = 25 # this is correct way \n",
    "# 123 = 25 this is the wrong way "
   ]
  },
  {
   "cell_type": "markdown",
   "id": "b9a8a790-2574-417c-bea5-c581dd99d8ac",
   "metadata": {},
   "source": [
    "Q9. Create a variable named name and assign your full name to it as a string. How would you print the\n",
    "value of this variable?"
   ]
  },
  {
   "cell_type": "code",
   "execution_count": 25,
   "id": "e5e8f262-e92d-4b2c-8f44-0b1a806f2d6f",
   "metadata": {},
   "outputs": [
    {
     "name": "stdout",
     "output_type": "stream",
     "text": [
      "shashank_singh\n"
     ]
    }
   ],
   "source": [
    "name = \"shashank_singh\"\n",
    "print(name)"
   ]
  },
  {
   "cell_type": "markdown",
   "id": "39c66041-c463-4722-8e35-050ecbb370a6",
   "metadata": {},
   "source": [
    "Q10. Given the string \"Hello, World!\", extract the substring \"World\"."
   ]
  },
  {
   "cell_type": "code",
   "execution_count": 26,
   "id": "244a3c67-4d0f-4a2e-87c4-3ce0d202192f",
   "metadata": {},
   "outputs": [
    {
     "name": "stdout",
     "output_type": "stream",
     "text": [
      "World\n"
     ]
    }
   ],
   "source": [
    "string = \"Hello, World!\"\n",
    "substring = string[7:12]\n",
    "print(substring)"
   ]
  },
  {
   "cell_type": "markdown",
   "id": "0e9a48e4-a9a0-4228-a021-3a8738fe286c",
   "metadata": {},
   "source": [
    "Q11. Create a variable named \"is_student\" and assign it a boolean value indicating whether you are\n",
    "currently a student or not."
   ]
  },
  {
   "cell_type": "code",
   "execution_count": 27,
   "id": "81865633-0107-4380-993f-5adff59f9db9",
   "metadata": {},
   "outputs": [],
   "source": [
    "is_student = True  # if you are currently a student\n",
    "is_student = False  # if you are not currently a student"
   ]
  },
  {
   "cell_type": "code",
   "execution_count": null,
   "id": "37db9cda-84a3-4360-abb7-50e05174c088",
   "metadata": {},
   "outputs": [],
   "source": []
  }
 ],
 "metadata": {
  "kernelspec": {
   "display_name": "Python 3 (ipykernel)",
   "language": "python",
   "name": "python3"
  },
  "language_info": {
   "codemirror_mode": {
    "name": "ipython",
    "version": 3
   },
   "file_extension": ".py",
   "mimetype": "text/x-python",
   "name": "python",
   "nbconvert_exporter": "python",
   "pygments_lexer": "ipython3",
   "version": "3.10.8"
  }
 },
 "nbformat": 4,
 "nbformat_minor": 5
}
